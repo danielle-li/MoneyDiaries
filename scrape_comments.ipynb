{
 "cells": [
  {
   "cell_type": "code",
   "execution_count": 30,
   "id": "2749c7cd",
   "metadata": {},
   "outputs": [],
   "source": [
    "#!pip install webdriver_manager\n",
    "#!pip install lxml\n",
    "import pandas as pd\n",
    "from bs4 import BeautifulSoup as bs\n",
    "import requests\n",
    "import re\n",
    "from time import sleep\n",
    "import time\n",
    "from selenium import webdriver\n",
    "from selenium.webdriver.common.by import By\n",
    "from selenium.webdriver.support.ui import WebDriverWait\n",
    "from selenium.webdriver.support import expected_conditions as EC\n",
    "from selenium.webdriver.support.ui import Select\n",
    "\n",
    "from webdriver_manager.chrome import ChromeDriverManager\n",
    "\n"
   ]
  },
  {
   "cell_type": "code",
   "execution_count": 2,
   "id": "307571f3",
   "metadata": {},
   "outputs": [
    {
     "name": "stdout",
     "output_type": "stream",
     "text": [
      "\n"
     ]
    },
    {
     "name": "stderr",
     "output_type": "stream",
     "text": [
      "[WDM] - ====== WebDriver manager ======\n"
     ]
    },
    {
     "name": "stdout",
     "output_type": "stream",
     "text": [
      "2022-07-07 14:27:03,675 INFO ====== WebDriver manager ======\n"
     ]
    },
    {
     "name": "stderr",
     "output_type": "stream",
     "text": [
      "[WDM] - Current google-chrome version is 103.0.5060\n"
     ]
    },
    {
     "name": "stdout",
     "output_type": "stream",
     "text": [
      "2022-07-07 14:27:03,722 INFO Current google-chrome version is 103.0.5060\n"
     ]
    },
    {
     "name": "stderr",
     "output_type": "stream",
     "text": [
      "[WDM] - Get LATEST chromedriver version for 103.0.5060 google-chrome\n"
     ]
    },
    {
     "name": "stdout",
     "output_type": "stream",
     "text": [
      "2022-07-07 14:27:03,723 INFO Get LATEST chromedriver version for 103.0.5060 google-chrome\n"
     ]
    },
    {
     "name": "stderr",
     "output_type": "stream",
     "text": [
      "[WDM] - Driver [/Users/danielleli/.wdm/drivers/chromedriver/mac64_m1/103.0.5060.53/chromedriver] found in cache\n"
     ]
    },
    {
     "name": "stdout",
     "output_type": "stream",
     "text": [
      "2022-07-07 14:27:03,823 INFO Driver [/Users/danielleli/.wdm/drivers/chromedriver/mac64_m1/103.0.5060.53/chromedriver] found in cache\n"
     ]
    },
    {
     "name": "stderr",
     "output_type": "stream",
     "text": [
      "/var/folders/fy/56t7kzwn4m196p75kksy9j5c0000gn/T/ipykernel_20366/3739059601.py:2: DeprecationWarning: executable_path has been deprecated, please pass in a Service object\n",
      "  driver = webdriver.Chrome(ChromeDriverManager().install())\n"
     ]
    }
   ],
   "source": [
    "#Initialize the driver\n",
    "driver = webdriver.Chrome(ChromeDriverManager().install())"
   ]
  },
  {
   "cell_type": "markdown",
   "id": "546d2e94",
   "metadata": {},
   "source": [
    "## PART 1: Practice getting comments on a single website"
   ]
  },
  {
   "cell_type": "code",
   "execution_count": 7,
   "id": "11c53c03",
   "metadata": {},
   "outputs": [],
   "source": [
    "driver.get(\"https://www.refinery29.com/en-us/money-diary-south-korea-english-teacher-salary\")"
   ]
  },
  {
   "cell_type": "code",
   "execution_count": 47,
   "id": "137f5377",
   "metadata": {},
   "outputs": [
    {
     "name": "stdout",
     "output_type": "stream",
     "text": [
      "\n"
     ]
    },
    {
     "name": "stderr",
     "output_type": "stream",
     "text": [
      "[WDM] - ====== WebDriver manager ======\n"
     ]
    },
    {
     "name": "stdout",
     "output_type": "stream",
     "text": [
      "2022-07-07 15:45:55,745 INFO ====== WebDriver manager ======\n"
     ]
    },
    {
     "name": "stderr",
     "output_type": "stream",
     "text": [
      "[WDM] - Current google-chrome version is 103.0.5060\n"
     ]
    },
    {
     "name": "stdout",
     "output_type": "stream",
     "text": [
      "2022-07-07 15:45:55,794 INFO Current google-chrome version is 103.0.5060\n"
     ]
    },
    {
     "name": "stderr",
     "output_type": "stream",
     "text": [
      "[WDM] - Get LATEST chromedriver version for 103.0.5060 google-chrome\n"
     ]
    },
    {
     "name": "stdout",
     "output_type": "stream",
     "text": [
      "2022-07-07 15:45:55,795 INFO Get LATEST chromedriver version for 103.0.5060 google-chrome\n"
     ]
    },
    {
     "name": "stderr",
     "output_type": "stream",
     "text": [
      "[WDM] - Driver [/Users/danielleli/.wdm/drivers/chromedriver/mac64_m1/103.0.5060.53/chromedriver] found in cache\n"
     ]
    },
    {
     "name": "stdout",
     "output_type": "stream",
     "text": [
      "2022-07-07 15:45:55,896 INFO Driver [/Users/danielleli/.wdm/drivers/chromedriver/mac64_m1/103.0.5060.53/chromedriver] found in cache\n"
     ]
    },
    {
     "name": "stderr",
     "output_type": "stream",
     "text": [
      "/var/folders/fy/56t7kzwn4m196p75kksy9j5c0000gn/T/ipykernel_20366/1882678484.py:1: DeprecationWarning: executable_path has been deprecated, please pass in a Service object\n",
      "  driver = webdriver.Chrome(ChromeDriverManager().install())\n"
     ]
    }
   ],
   "source": [
    "driver = webdriver.Chrome(ChromeDriverManager().install())\n",
    "#driver.get(\"https://www.refinery29.com/en-us/paralegal-brooklyn-ny-salary-money-diary\")"
   ]
  },
  {
   "cell_type": "code",
   "execution_count": 49,
   "id": "2fe1410c",
   "metadata": {},
   "outputs": [
    {
     "data": {
      "text/plain": [
       "'157 Comments'"
      ]
     },
     "execution_count": 49,
     "metadata": {},
     "output_type": "execute_result"
    }
   ],
   "source": [
    "\n",
    "driver.get(\"https://www.refinery29.com/en-us/paralegal-brooklyn-ny-salary-money-diary\")\n",
    "time.sleep(5)\n",
    "driver.execute_script(\"\"\"\n",
    "    window.scrollTo({ top: document.body.scrollHeight, behavior: 'smooth' })\n",
    "\"\"\")\n",
    "time.sleep(1)\n",
    "comment_count = driver.execute_script(\"\"\"\n",
    "    return document.querySelector(\"[data-spot-im-shadow-host*='conversation']\").shadowRoot.querySelector(\"[data-spot-im-class='comments-count']\").textContent\n",
    "\"\"\")\n",
    "\n",
    "comment_count"
   ]
  },
  {
   "cell_type": "markdown",
   "id": "af1d3c9e",
   "metadata": {},
   "source": [
    "## PART 2: Write a function that takes a text input and outputs the comments count"
   ]
  },
  {
   "cell_type": "code",
   "execution_count": 50,
   "id": "d7acdc4b",
   "metadata": {},
   "outputs": [
    {
     "name": "stdout",
     "output_type": "stream",
     "text": [
      "\n"
     ]
    },
    {
     "name": "stderr",
     "output_type": "stream",
     "text": [
      "[WDM] - ====== WebDriver manager ======\n"
     ]
    },
    {
     "name": "stdout",
     "output_type": "stream",
     "text": [
      "2022-07-07 15:47:56,918 INFO ====== WebDriver manager ======\n"
     ]
    },
    {
     "name": "stderr",
     "output_type": "stream",
     "text": [
      "[WDM] - Current google-chrome version is 103.0.5060\n"
     ]
    },
    {
     "name": "stdout",
     "output_type": "stream",
     "text": [
      "2022-07-07 15:47:56,991 INFO Current google-chrome version is 103.0.5060\n"
     ]
    },
    {
     "name": "stderr",
     "output_type": "stream",
     "text": [
      "[WDM] - Get LATEST chromedriver version for 103.0.5060 google-chrome\n"
     ]
    },
    {
     "name": "stdout",
     "output_type": "stream",
     "text": [
      "2022-07-07 15:47:56,992 INFO Get LATEST chromedriver version for 103.0.5060 google-chrome\n"
     ]
    },
    {
     "name": "stderr",
     "output_type": "stream",
     "text": [
      "[WDM] - Driver [/Users/danielleli/.wdm/drivers/chromedriver/mac64_m1/103.0.5060.53/chromedriver] found in cache\n"
     ]
    },
    {
     "name": "stdout",
     "output_type": "stream",
     "text": [
      "2022-07-07 15:47:57,039 INFO Driver [/Users/danielleli/.wdm/drivers/chromedriver/mac64_m1/103.0.5060.53/chromedriver] found in cache\n"
     ]
    },
    {
     "name": "stderr",
     "output_type": "stream",
     "text": [
      "/var/folders/fy/56t7kzwn4m196p75kksy9j5c0000gn/T/ipykernel_20366/1503906442.py:1: DeprecationWarning: executable_path has been deprecated, please pass in a Service object\n",
      "  driver = webdriver.Chrome(ChromeDriverManager().install())\n"
     ]
    }
   ],
   "source": [
    "driver = webdriver.Chrome(ChromeDriverManager().install())"
   ]
  },
  {
   "cell_type": "code",
   "execution_count": 55,
   "id": "fe089baf",
   "metadata": {},
   "outputs": [],
   "source": [
    "def get_num_comments(url):\n",
    "    \"\"\"\n",
    "    Fetches number of comments for a given url\n",
    "    \"\"\"\n",
    "    full_url = \"https://www.refinery29.com\" + url\n",
    "    print(\"Getting url\", full_url)\n",
    "    driver.get(full_url)\n",
    "\n",
    "    time.sleep(1)\n",
    "    print(\"Scrolling down\")\n",
    "    driver.execute_script(\"\"\"\n",
    "    window.scrollTo({ top: document.body.scrollHeight, behavior: 'smooth' })\n",
    "    \"\"\")\n",
    "    time.sleep(1)\n",
    "\n",
    "    print(\"Getting comment count\")\n",
    "    comment_count = driver.execute_script(\"\"\"\n",
    "    try {\n",
    "        return document.querySelector(\"[data-spot-im-shadow-host*='conversation']\").shadowRoot.querySelector(\"[data-spot-im-class='comments-count']\").textContent\n",
    "    } catch(e) {\n",
    "        return null\n",
    "    }\n",
    "    \"\"\")\n",
    "    return comment_count\n"
   ]
  },
  {
   "cell_type": "code",
   "execution_count": 56,
   "id": "ee3387aa",
   "metadata": {},
   "outputs": [
    {
     "data": {
      "text/plain": [
       "'221 Comments'"
      ]
     },
     "execution_count": 56,
     "metadata": {},
     "output_type": "execute_result"
    }
   ],
   "source": [
    "#Test it\n",
    "#url=\"https://www.refinery29.com/en-us/paralegal-brooklyn-ny-salary-money-diary\" \n",
    "#url=\"https://www.refinery29.com/en-us/money-diary-new-york-ny-administrator-salary\"\n",
    "url=\"https://www.refinery29.com/en-us/money-diary-denver-co-design-strategist-salary\"\n",
    "get_num_comments(url)    "
   ]
  },
  {
   "cell_type": "code",
   "execution_count": 62,
   "id": "e2da85c6",
   "metadata": {},
   "outputs": [],
   "source": []
  },
  {
   "cell_type": "code",
   "execution_count": 63,
   "id": "aa84317a",
   "metadata": {},
   "outputs": [
    {
     "name": "stdout",
     "output_type": "stream",
     "text": [
      "Scrolling down\n",
      "Getting comment count\n"
     ]
    },
    {
     "data": {
      "text/plain": [
       "'221 Comments'"
      ]
     },
     "execution_count": 63,
     "metadata": {},
     "output_type": "execute_result"
    }
   ],
   "source": [
    "#Test it\n",
    "#url=\"https://www.refinery29.com/en-us/paralegal-brooklyn-ny-salary-money-diary\" \n",
    "#url=\"https://www.refinery29.com/en-us/money-diary-new-york-ny-administrator-salary\"\n",
    "url=\"https://www.refinery29.com/en-us/money-diary-denver-co-design-strategist-salary\"\n",
    "get_num_comments(url) "
   ]
  },
  {
   "cell_type": "code",
   "execution_count": null,
   "id": "581d9389",
   "metadata": {},
   "outputs": [],
   "source": []
  }
 ],
 "metadata": {
  "kernelspec": {
   "display_name": "Python 3 (ipykernel)",
   "language": "python",
   "name": "python3"
  },
  "language_info": {
   "codemirror_mode": {
    "name": "ipython",
    "version": 3
   },
   "file_extension": ".py",
   "mimetype": "text/x-python",
   "name": "python",
   "nbconvert_exporter": "python",
   "pygments_lexer": "ipython3",
   "version": "3.10.3"
  }
 },
 "nbformat": 4,
 "nbformat_minor": 5
}
